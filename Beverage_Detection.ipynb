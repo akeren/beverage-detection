{
  "nbformat": 4,
  "nbformat_minor": 0,
  "metadata": {
    "colab": {
      "provenance": [],
      "collapsed_sections": [
        "UzBpum7NCP11"
      ],
      "gpuType": "T4",
      "authorship_tag": "ABX9TyOdWXzK1oJsxVFhbH3lVqLm",
      "include_colab_link": true
    },
    "kernelspec": {
      "name": "python3",
      "display_name": "Python 3"
    },
    "language_info": {
      "name": "python"
    },
    "accelerator": "GPU"
  },
  "cells": [
    {
      "cell_type": "markdown",
      "metadata": {
        "id": "view-in-github",
        "colab_type": "text"
      },
      "source": [
        "<a href=\"https://colab.research.google.com/github/akeren/beverage-detection/blob/main/Beverage_Detection.ipynb\" target=\"_parent\"><img src=\"https://colab.research.google.com/assets/colab-badge.svg\" alt=\"Open In Colab\"/></a>"
      ]
    },
    {
      "cell_type": "markdown",
      "source": [
        "# CPU Utilisation"
      ],
      "metadata": {
        "id": "YZhWgFqo_fWa"
      }
    },
    {
      "cell_type": "code",
      "execution_count": 6,
      "metadata": {
        "colab": {
          "base_uri": "https://localhost:8080/"
        },
        "id": "76Rdv7IH-yn1",
        "outputId": "7e6f27f2-1739-44a0-fa76-e585362dc5b6"
      },
      "outputs": [
        {
          "output_type": "stream",
          "name": "stdout",
          "text": [
            "Mon May 12 02:49:44 2025       \n",
            "+-----------------------------------------------------------------------------------------+\n",
            "| NVIDIA-SMI 550.54.15              Driver Version: 550.54.15      CUDA Version: 12.4     |\n",
            "|-----------------------------------------+------------------------+----------------------+\n",
            "| GPU  Name                 Persistence-M | Bus-Id          Disp.A | Volatile Uncorr. ECC |\n",
            "| Fan  Temp   Perf          Pwr:Usage/Cap |           Memory-Usage | GPU-Util  Compute M. |\n",
            "|                                         |                        |               MIG M. |\n",
            "|=========================================+========================+======================|\n",
            "|   0  Tesla T4                       Off |   00000000:00:04.0 Off |                    0 |\n",
            "| N/A   35C    P8              9W /   70W |       0MiB /  15360MiB |      0%      Default |\n",
            "|                                         |                        |                  N/A |\n",
            "+-----------------------------------------+------------------------+----------------------+\n",
            "                                                                                         \n",
            "+-----------------------------------------------------------------------------------------+\n",
            "| Processes:                                                                              |\n",
            "|  GPU   GI   CI        PID   Type   Process name                              GPU Memory |\n",
            "|        ID   ID                                                               Usage      |\n",
            "|=========================================================================================|\n",
            "|  No running processes found                                                             |\n",
            "+-----------------------------------------------------------------------------------------+\n"
          ]
        }
      ],
      "source": [
        "!nvidia-smi"
      ]
    },
    {
      "cell_type": "markdown",
      "source": [
        "# Python Version"
      ],
      "metadata": {
        "id": "VX-WJrPBTJs3"
      }
    },
    {
      "cell_type": "code",
      "source": [
        "!python --version"
      ],
      "metadata": {
        "colab": {
          "base_uri": "https://localhost:8080/"
        },
        "id": "X1-DMepzTMK_",
        "outputId": "0ed47e27-dbd2-45cd-fc54-102a2097f8f5"
      },
      "execution_count": 7,
      "outputs": [
        {
          "output_type": "stream",
          "name": "stdout",
          "text": [
            "Python 3.11.12\n"
          ]
        }
      ]
    },
    {
      "cell_type": "markdown",
      "source": [
        "# Install all the required packages"
      ],
      "metadata": {
        "id": "B-vybR4FAAla"
      }
    },
    {
      "cell_type": "code",
      "source": [
        "!pip install roboflow ultralytics torch torchvision transformers"
      ],
      "metadata": {
        "colab": {
          "base_uri": "https://localhost:8080/"
        },
        "id": "BIpFgHbkAF-0",
        "outputId": "51678817-7620-4d5b-8fb3-78bc8d20b0e2",
        "collapsed": true
      },
      "execution_count": 8,
      "outputs": [
        {
          "output_type": "stream",
          "name": "stdout",
          "text": [
            "Requirement already satisfied: roboflow in /usr/local/lib/python3.11/dist-packages (1.1.63)\n",
            "Requirement already satisfied: ultralytics in /usr/local/lib/python3.11/dist-packages (8.3.131)\n",
            "Requirement already satisfied: torch in /usr/local/lib/python3.11/dist-packages (2.6.0+cu124)\n",
            "Requirement already satisfied: torchvision in /usr/local/lib/python3.11/dist-packages (0.21.0+cu124)\n",
            "Requirement already satisfied: transformers in /usr/local/lib/python3.11/dist-packages (4.51.3)\n",
            "Requirement already satisfied: certifi in /usr/local/lib/python3.11/dist-packages (from roboflow) (2025.4.26)\n",
            "Requirement already satisfied: idna==3.7 in /usr/local/lib/python3.11/dist-packages (from roboflow) (3.7)\n",
            "Requirement already satisfied: cycler in /usr/local/lib/python3.11/dist-packages (from roboflow) (0.12.1)\n",
            "Requirement already satisfied: kiwisolver>=1.3.1 in /usr/local/lib/python3.11/dist-packages (from roboflow) (1.4.8)\n",
            "Requirement already satisfied: matplotlib in /usr/local/lib/python3.11/dist-packages (from roboflow) (3.10.0)\n",
            "Requirement already satisfied: numpy>=1.18.5 in /usr/local/lib/python3.11/dist-packages (from roboflow) (2.0.2)\n",
            "Requirement already satisfied: opencv-python-headless==4.10.0.84 in /usr/local/lib/python3.11/dist-packages (from roboflow) (4.10.0.84)\n",
            "Requirement already satisfied: Pillow>=7.1.2 in /usr/local/lib/python3.11/dist-packages (from roboflow) (11.2.1)\n",
            "Requirement already satisfied: pillow-heif>=0.18.0 in /usr/local/lib/python3.11/dist-packages (from roboflow) (0.22.0)\n",
            "Requirement already satisfied: python-dateutil in /usr/local/lib/python3.11/dist-packages (from roboflow) (2.9.0.post0)\n",
            "Requirement already satisfied: python-dotenv in /usr/local/lib/python3.11/dist-packages (from roboflow) (1.1.0)\n",
            "Requirement already satisfied: requests in /usr/local/lib/python3.11/dist-packages (from roboflow) (2.32.3)\n",
            "Requirement already satisfied: six in /usr/local/lib/python3.11/dist-packages (from roboflow) (1.17.0)\n",
            "Requirement already satisfied: urllib3>=1.26.6 in /usr/local/lib/python3.11/dist-packages (from roboflow) (2.4.0)\n",
            "Requirement already satisfied: tqdm>=4.41.0 in /usr/local/lib/python3.11/dist-packages (from roboflow) (4.67.1)\n",
            "Requirement already satisfied: PyYAML>=5.3.1 in /usr/local/lib/python3.11/dist-packages (from roboflow) (6.0.2)\n",
            "Requirement already satisfied: requests-toolbelt in /usr/local/lib/python3.11/dist-packages (from roboflow) (1.0.0)\n",
            "Requirement already satisfied: filetype in /usr/local/lib/python3.11/dist-packages (from roboflow) (1.2.0)\n",
            "Requirement already satisfied: opencv-python>=4.6.0 in /usr/local/lib/python3.11/dist-packages (from ultralytics) (4.11.0.86)\n",
            "Requirement already satisfied: scipy>=1.4.1 in /usr/local/lib/python3.11/dist-packages (from ultralytics) (1.15.2)\n",
            "Requirement already satisfied: psutil in /usr/local/lib/python3.11/dist-packages (from ultralytics) (5.9.5)\n",
            "Requirement already satisfied: py-cpuinfo in /usr/local/lib/python3.11/dist-packages (from ultralytics) (9.0.0)\n",
            "Requirement already satisfied: pandas>=1.1.4 in /usr/local/lib/python3.11/dist-packages (from ultralytics) (2.2.2)\n",
            "Requirement already satisfied: seaborn>=0.11.0 in /usr/local/lib/python3.11/dist-packages (from ultralytics) (0.13.2)\n",
            "Requirement already satisfied: ultralytics-thop>=2.0.0 in /usr/local/lib/python3.11/dist-packages (from ultralytics) (2.0.14)\n",
            "Requirement already satisfied: filelock in /usr/local/lib/python3.11/dist-packages (from torch) (3.18.0)\n",
            "Requirement already satisfied: typing-extensions>=4.10.0 in /usr/local/lib/python3.11/dist-packages (from torch) (4.13.2)\n",
            "Requirement already satisfied: networkx in /usr/local/lib/python3.11/dist-packages (from torch) (3.4.2)\n",
            "Requirement already satisfied: jinja2 in /usr/local/lib/python3.11/dist-packages (from torch) (3.1.6)\n",
            "Requirement already satisfied: fsspec in /usr/local/lib/python3.11/dist-packages (from torch) (2025.3.2)\n",
            "Requirement already satisfied: nvidia-cuda-nvrtc-cu12==12.4.127 in /usr/local/lib/python3.11/dist-packages (from torch) (12.4.127)\n",
            "Requirement already satisfied: nvidia-cuda-runtime-cu12==12.4.127 in /usr/local/lib/python3.11/dist-packages (from torch) (12.4.127)\n",
            "Requirement already satisfied: nvidia-cuda-cupti-cu12==12.4.127 in /usr/local/lib/python3.11/dist-packages (from torch) (12.4.127)\n",
            "Requirement already satisfied: nvidia-cudnn-cu12==9.1.0.70 in /usr/local/lib/python3.11/dist-packages (from torch) (9.1.0.70)\n",
            "Requirement already satisfied: nvidia-cublas-cu12==12.4.5.8 in /usr/local/lib/python3.11/dist-packages (from torch) (12.4.5.8)\n",
            "Requirement already satisfied: nvidia-cufft-cu12==11.2.1.3 in /usr/local/lib/python3.11/dist-packages (from torch) (11.2.1.3)\n",
            "Requirement already satisfied: nvidia-curand-cu12==10.3.5.147 in /usr/local/lib/python3.11/dist-packages (from torch) (10.3.5.147)\n",
            "Requirement already satisfied: nvidia-cusolver-cu12==11.6.1.9 in /usr/local/lib/python3.11/dist-packages (from torch) (11.6.1.9)\n",
            "Requirement already satisfied: nvidia-cusparse-cu12==12.3.1.170 in /usr/local/lib/python3.11/dist-packages (from torch) (12.3.1.170)\n",
            "Requirement already satisfied: nvidia-cusparselt-cu12==0.6.2 in /usr/local/lib/python3.11/dist-packages (from torch) (0.6.2)\n",
            "Requirement already satisfied: nvidia-nccl-cu12==2.21.5 in /usr/local/lib/python3.11/dist-packages (from torch) (2.21.5)\n",
            "Requirement already satisfied: nvidia-nvtx-cu12==12.4.127 in /usr/local/lib/python3.11/dist-packages (from torch) (12.4.127)\n",
            "Requirement already satisfied: nvidia-nvjitlink-cu12==12.4.127 in /usr/local/lib/python3.11/dist-packages (from torch) (12.4.127)\n",
            "Requirement already satisfied: triton==3.2.0 in /usr/local/lib/python3.11/dist-packages (from torch) (3.2.0)\n",
            "Requirement already satisfied: sympy==1.13.1 in /usr/local/lib/python3.11/dist-packages (from torch) (1.13.1)\n",
            "Requirement already satisfied: mpmath<1.4,>=1.1.0 in /usr/local/lib/python3.11/dist-packages (from sympy==1.13.1->torch) (1.3.0)\n",
            "Requirement already satisfied: huggingface-hub<1.0,>=0.30.0 in /usr/local/lib/python3.11/dist-packages (from transformers) (0.30.2)\n",
            "Requirement already satisfied: packaging>=20.0 in /usr/local/lib/python3.11/dist-packages (from transformers) (24.2)\n",
            "Requirement already satisfied: regex!=2019.12.17 in /usr/local/lib/python3.11/dist-packages (from transformers) (2024.11.6)\n",
            "Requirement already satisfied: tokenizers<0.22,>=0.21 in /usr/local/lib/python3.11/dist-packages (from transformers) (0.21.1)\n",
            "Requirement already satisfied: safetensors>=0.4.3 in /usr/local/lib/python3.11/dist-packages (from transformers) (0.5.3)\n",
            "Requirement already satisfied: contourpy>=1.0.1 in /usr/local/lib/python3.11/dist-packages (from matplotlib->roboflow) (1.3.2)\n",
            "Requirement already satisfied: fonttools>=4.22.0 in /usr/local/lib/python3.11/dist-packages (from matplotlib->roboflow) (4.57.0)\n",
            "Requirement already satisfied: pyparsing>=2.3.1 in /usr/local/lib/python3.11/dist-packages (from matplotlib->roboflow) (3.2.3)\n",
            "Requirement already satisfied: pytz>=2020.1 in /usr/local/lib/python3.11/dist-packages (from pandas>=1.1.4->ultralytics) (2025.2)\n",
            "Requirement already satisfied: tzdata>=2022.7 in /usr/local/lib/python3.11/dist-packages (from pandas>=1.1.4->ultralytics) (2025.2)\n",
            "Requirement already satisfied: charset-normalizer<4,>=2 in /usr/local/lib/python3.11/dist-packages (from requests->roboflow) (3.4.1)\n",
            "Requirement already satisfied: MarkupSafe>=2.0 in /usr/local/lib/python3.11/dist-packages (from jinja2->torch) (3.0.2)\n"
          ]
        }
      ]
    },
    {
      "cell_type": "markdown",
      "source": [
        "# Import all the libraries to be used"
      ],
      "metadata": {
        "id": "AjEl69L5AMke"
      }
    },
    {
      "cell_type": "code",
      "source": [
        "import os\n",
        "import torch\n",
        "import numpy as np\n",
        "import matplotlib.pyplot as plt\n",
        "import logging\n",
        "\n",
        "from roboflow import Roboflow\n",
        "from google.colab import userdata\n",
        "from ultralytics import YOLO\n",
        "from transformers import DetrForObjectDetection, DetrImageProcessor\n",
        "from torchvision import transforms\n",
        "from torchvision.ops import nms\n",
        "from PIL import Image, ImageDraw\n",
        "from typing import Tuple, Dict, Any, Optional\n",
        "from abc import ABC, abstractmethod\n"
      ],
      "metadata": {
        "id": "6vBBY0xXATQp",
        "collapsed": true
      },
      "execution_count": 9,
      "outputs": []
    },
    {
      "cell_type": "markdown",
      "source": [
        "# Dataset Downloader Class Definition"
      ],
      "metadata": {
        "id": "YkQiy9adaCpz"
      }
    },
    {
      "cell_type": "code",
      "source": [
        "class DatasetDownloader(ABC):\n",
        "    @abstractmethod\n",
        "    def download(self) -> dict:\n",
        "        \"\"\"Download the dataset and return dataset information\"\"\"\n",
        "        pass\n",
        "\n",
        "class RoboflowConfig:\n",
        "    def __init__(self, api_key: str):\n",
        "        if not api_key:\n",
        "            raise ValueError('API key is missing. Please provide an API Key!')\n",
        "        self.api_key = api_key\n",
        "        self.workspace_name = 'roboflow-universe-projects'\n",
        "        self.project_name = 'beverage-containers-3atxb'\n",
        "        self.version_number = 3\n",
        "        self.framework = 'yolov11'\n",
        "\n",
        "class RoboflowDownloader(DatasetDownloader):\n",
        "    def __init__(self, config: RoboflowConfig):\n",
        "        self.config = config\n",
        "        self.rf = None\n",
        "        self.project = None\n",
        "        self.version = None\n",
        "        self._initialize()\n",
        "\n",
        "    def _initialize(self):\n",
        "        \"\"\"Initialize Roboflow connection and project\"\"\"\n",
        "        self.rf = Roboflow(api_key=self.config.api_key)\n",
        "        self.project = self.rf.workspace(self.config.workspace_name).project(self.config.project_name)\n",
        "        self.version = self.project.version(self.config.version_number)\n",
        "\n",
        "    def download(self) -> dict:\n",
        "        \"\"\"Download the dataset using the specified framework\"\"\"\n",
        "        dataset = self.version.download(self.config.framework)\n",
        "        return dataset\n",
        "\n",
        "class DatasetFactory:\n",
        "    @staticmethod\n",
        "    def create_roboflow_downloader(api_key: Optional[str] = None) -> RoboflowDownloader:\n",
        "        \"\"\"\n",
        "        Factory method to create a RoboflowDownloader instance\n",
        "        If api_key is not provided, attempts to get it from userdata\n",
        "        \"\"\"\n",
        "        if api_key is None:\n",
        "            api_key = userdata.get('ROBO_FLOW_API_KEY')\n",
        "\n",
        "        config = RoboflowConfig(api_key)\n",
        "        return RoboflowDownloader(config)"
      ],
      "metadata": {
        "id": "8KfT9xf_aM2-"
      },
      "execution_count": 10,
      "outputs": []
    },
    {
      "cell_type": "markdown",
      "source": [
        "# Download Beverage Dataset from Roboflow"
      ],
      "metadata": {
        "id": "RIM_SMYYAZwH"
      }
    },
    {
      "cell_type": "code",
      "source": [
        "def download_dataset():\n",
        "    try:\n",
        "        downloader = DatasetFactory.create_roboflow_downloader()\n",
        "        dataset = downloader.download()\n",
        "\n",
        "        return dataset\n",
        "    except ValueError as e:\n",
        "        print(f\"Error occurred: {e}\")\n",
        "        return None\n",
        "\n",
        "if __name__ == \"__main__\":\n",
        "    dataset = download_dataset()"
      ],
      "metadata": {
        "colab": {
          "base_uri": "https://localhost:8080/"
        },
        "id": "k66XM_WzAxCq",
        "outputId": "9d4116d1-b40c-4912-a86b-ab810394c801",
        "collapsed": true
      },
      "execution_count": 11,
      "outputs": [
        {
          "output_type": "stream",
          "name": "stdout",
          "text": [
            "loading Roboflow workspace...\n",
            "loading Roboflow project...\n"
          ]
        },
        {
          "output_type": "stream",
          "name": "stderr",
          "text": [
            "Downloading Dataset Version Zip in Beverage-Containers-3 to yolov11:: 100%|██████████| 606616/606616 [00:16<00:00, 37161.41it/s]"
          ]
        },
        {
          "output_type": "stream",
          "name": "stdout",
          "text": [
            "\n"
          ]
        },
        {
          "output_type": "stream",
          "name": "stderr",
          "text": [
            "\n",
            "Extracting Dataset Version Zip to Beverage-Containers-3 in yolov11:: 100%|██████████| 31302/31302 [00:07<00:00, 4158.87it/s]\n"
          ]
        }
      ]
    },
    {
      "cell_type": "markdown",
      "source": [
        "# Define the Dataset path"
      ],
      "metadata": {
        "id": "hAWQxk2pX0Ml"
      }
    },
    {
      "cell_type": "code",
      "source": [
        "data_path = '/content/Beverage-Containers-3/data.yaml'"
      ],
      "metadata": {
        "id": "MakelXvRX6t_"
      },
      "execution_count": 12,
      "outputs": []
    },
    {
      "cell_type": "markdown",
      "source": [
        "# Visualise dataset"
      ],
      "metadata": {
        "id": "RUfRAldWbOjy"
      }
    },
    {
      "cell_type": "code",
      "source": [
        "# Class names (consistent formatting)\n",
        "classes = [\n",
        "    'bottle-glass', 'bottle-plastic', 'cup-disposable', 'cup-handle',\n",
        "    'glass-mug', 'glass-normal', 'glass-wine', 'gym-bottle', 'tin-can'\n",
        "]\n",
        "\n",
        "# Paths to label directories\n",
        "label_dirs = [\n",
        "    '/content/Beverage-Containers-3/train/labels',\n",
        "    '/content/Beverage-Containers-3/valid/labels',\n",
        "    '/content/Beverage-Containers-3/test/labels'\n",
        "]\n",
        "\n",
        "# Initialize class counts\n",
        "class_counts = [0] * len(classes)\n",
        "\n",
        "# Function to count class instances in a directory\n",
        "def count_classes_in_dir(label_dir):\n",
        "    if not os.path.exists(label_dir):\n",
        "        print(f\"Directory {label_dir} does not exist.\")\n",
        "        return\n",
        "\n",
        "    for label_file in os.listdir(label_dir):\n",
        "        if not label_file.endswith('.txt'):\n",
        "            continue\n",
        "        file_path = os.path.join(label_dir, label_file)\n",
        "        try:\n",
        "            with open(file_path, 'r') as f:\n",
        "                for line in f:\n",
        "                    parts = line.strip().split()\n",
        "                    if parts:\n",
        "                        class_id = int(parts[0])\n",
        "                        if 0 <= class_id < len(classes):\n",
        "                            class_counts[class_id] += 1\n",
        "        except Exception as e:\n",
        "            print(f\"Error reading {file_path}: {e}\")\n",
        "\n",
        "# Count classes across all directories\n",
        "for label_dir in label_dirs:\n",
        "    count_classes_in_dir(label_dir)\n",
        "\n",
        "# Print class counts for verification\n",
        "print(\"Class counts:\")\n",
        "for class_name, count in zip(classes, class_counts):\n",
        "    print(f\"{class_name}: {count}\")\n",
        "\n",
        "# Create histogram\n",
        "plt.figure(figsize=(12, 6))\n",
        "bars = plt.bar(classes, class_counts, color='skyblue', edgecolor='black')\n",
        "plt.xlabel('Beverage Container Classes')\n",
        "plt.ylabel('Number of Instances')\n",
        "plt.title('Distribution of Beverage Container Instances Across Train, Valid, and Test Sets')\n",
        "plt.xticks(rotation=45, ha='right')\n",
        "plt.ylim(0, 3500)  # Extend y-axis for clarity\n",
        "\n",
        "# Add count labels on bars\n",
        "for bar in bars:\n",
        "    height = bar.get_height()\n",
        "    plt.text(bar.get_x() + bar.get_width()/2, height + 50, int(height), ha='center', va='bottom')\n",
        "plt.tight_layout()\n",
        "\n",
        "# Save plot\n",
        "plt.savefig('class_distribution_histogram.png')\n",
        "\n",
        "# Show plot\n",
        "plt.show()"
      ],
      "metadata": {
        "colab": {
          "base_uri": "https://localhost:8080/",
          "height": 786
        },
        "id": "EPek3mTXbRuO",
        "outputId": "9f32bb32-3924-4247-b0df-0316999f1af0"
      },
      "execution_count": 13,
      "outputs": [
        {
          "output_type": "stream",
          "name": "stdout",
          "text": [
            "Class counts:\n",
            "bottle-glass: 3017\n",
            "bottle-plastic: 2473\n",
            "cup-disposable: 2464\n",
            "cup-handle: 2825\n",
            "glass-mug: 2775\n",
            "glass-normal: 2646\n",
            "glass-wine: 2332\n",
            "gym-bottle: 2609\n",
            "tin-can: 2203\n"
          ]
        },
        {
          "output_type": "display_data",
          "data": {
            "text/plain": [
              "<Figure size 1200x600 with 1 Axes>"
            ],
            "image/png": "[encoded data removed]"
          },
          "metadata": {}
        }
      ]
    },
    {
      "cell_type": "markdown",
      "source": [
        "# Model Training Class Definition"
      ],
      "metadata": {
        "id": "5mCAdAl-Npst"
      }
    },
    {
      "cell_type": "code",
      "source": [
        "class ModelTrainer:\n",
        "    class Builder:\n",
        "        def __init__(self, model):\n",
        "            self.model = model\n",
        "            self.data_path = None\n",
        "            self.epochs = 100\n",
        "            self.image_size = 640\n",
        "            self.batch_size = 32\n",
        "            self.learning_rate = 0.001\n",
        "            self.optimizer = 'AdamW'\n",
        "            self.weight_decay = 0.005\n",
        "            self.patience = 20\n",
        "            self.augment = True\n",
        "            self.validate = True\n",
        "            self.pretrained = True\n",
        "            self.save = True\n",
        "            self.resume = True\n",
        "            self.cosine_learning_rate = True\n",
        "            self.final_learning_rate = 0.0001\n",
        "\n",
        "        def set_data_path(self, data_path):\n",
        "            self.data_path = data_path\n",
        "            return self\n",
        "\n",
        "        def set_epochs(self, epochs):\n",
        "            self.epochs = epochs\n",
        "            return self\n",
        "\n",
        "        def set_image_size(self, image_size):\n",
        "            self.image_size = image_size\n",
        "            return self\n",
        "\n",
        "        def set_batch_size(self, batch_size):\n",
        "            self.batch_size = batch_size\n",
        "            return self\n",
        "\n",
        "        def set_learning_rate(self, learning_rate):\n",
        "            self.learning_rate = learning_rate\n",
        "            return self\n",
        "\n",
        "        def set_optimizer(self, optimizer):\n",
        "            self.optimizer = optimizer\n",
        "            return self\n",
        "\n",
        "        def set_weight_decay(self, weight_decay):\n",
        "            self.weight_decay = weight_decay\n",
        "            return self\n",
        "\n",
        "        def set_augment(self, augment):\n",
        "            self.augment = augment\n",
        "            return self\n",
        "\n",
        "        def set_validate(self, validate):\n",
        "            self.validate = validate\n",
        "            return self\n",
        "\n",
        "        def set_patience(self, patience):\n",
        "            self.patience = patience\n",
        "            return self\n",
        "\n",
        "        def set_pretrained(self, pretrained):\n",
        "            self.pretrained = pretrained\n",
        "            return self\n",
        "\n",
        "        def set_save(self, save):\n",
        "            self.save = save\n",
        "            return self\n",
        "\n",
        "        def set_resume(self, resume):\n",
        "            self.resume = resume\n",
        "            return self\n",
        "\n",
        "        def set_cosine_learning_rate(self, cosine_learning_rate):\n",
        "            self.cosine_learning_rate = cosine_learning_rate\n",
        "            return self\n",
        "\n",
        "        def set_final_learning_rate(self, final_learning_rate):\n",
        "            self.final_learning_rate = final_learning_rate\n",
        "            return self\n",
        "\n",
        "        def build(self):\n",
        "            if self.data_path is None:\n",
        "                raise ValueError(\"Data path must be specified\")\n",
        "            return ModelTrainer(self)\n",
        "\n",
        "    def __init__(self, builder):\n",
        "        self.model = builder.model\n",
        "        self.data_path = builder.data_path\n",
        "        self.epochs = builder.epochs\n",
        "        self.image_size = builder.image_size\n",
        "        self.batch_size = builder.batch_size\n",
        "        self.learning_rate = builder.learning_rate\n",
        "        self.optimizer = builder.optimizer\n",
        "        self.weight_decay = builder.weight_decay\n",
        "        self.augment = builder.augment\n",
        "        self.validate = builder.validate\n",
        "        self.patience = builder.patience\n",
        "        self.pretrained = builder.pretrained\n",
        "        self.save = builder.save\n",
        "        self.resume = builder.resume\n",
        "        self.cosine_learning_rate = builder.cosine_learning_rate\n",
        "        self.final_learning_rate = builder.final_learning_rate\n",
        "\n",
        "    def train(self):\n",
        "        results = self.model.train(\n",
        "            data=self.data_path,\n",
        "            epochs=self.epochs,\n",
        "            imgsz=self.image_size,\n",
        "            batch=self.batch_size,\n",
        "            lr0=self.learning_rate,\n",
        "            lrf=self.final_learning_rate,\n",
        "            cos_lr=self.cosine_learning_rate,\n",
        "            optimizer=self.optimizer,\n",
        "            weight_decay=self.weight_decay,\n",
        "            augment=self.augment,\n",
        "            val=self.validate,\n",
        "            patience=self.patience,\n",
        "            pretrained=self.pretrained,\n",
        "            save=self.save,\n",
        "            resume=self.resume\n",
        "        )\n",
        "        return results"
      ],
      "metadata": {
        "id": "fwkBknq3N7eJ"
      },
      "execution_count": 14,
      "outputs": []
    },
    {
      "cell_type": "markdown",
      "source": [
        "# Define Train Model Function"
      ],
      "metadata": {
        "id": "kB4c8SHLWwZR"
      }
    },
    {
      "cell_type": "code",
      "source": [
        "def train_model(model, data_path):\n",
        "  try:\n",
        "\n",
        "    trainer = (ModelTrainer.Builder(model)\n",
        "    .set_data_path(data_path)\n",
        "    .set_batch_size(16)\n",
        "    .set_epochs(5)\n",
        "    .set_patience(5)\n",
        "    .set_resume(False)\n",
        "    .build())\n",
        "\n",
        "    return trainer.train()\n",
        "\n",
        "  except Exception as e:\n",
        "\n",
        "    print(f\"An error occurred during model training: {e}\")\n",
        "\n",
        "    return None"
      ],
      "metadata": {
        "id": "sgML_zxRXhki"
      },
      "execution_count": 15,
      "outputs": []
    },
    {
      "cell_type": "markdown",
      "source": [
        "# YOLOv11 Model Initialisation"
      ],
      "metadata": {
        "id": "2W0y9F6gCFoX"
      }
    },
    {
      "cell_type": "code",
      "source": [
        "model = YOLO('yolo11n.pt')"
      ],
      "metadata": {
        "id": "I8sdvQiJCJrh",
        "colab": {
          "base_uri": "https://localhost:8080/"
        },
        "outputId": "9c9ef6a7-1ca3-44d6-e34a-46fe9344fbb2"
      },
      "execution_count": 16,
      "outputs": [
        {
          "output_type": "stream",
          "name": "stdout",
          "text": [
            "Downloading https://github.com/ultralytics/assets/releases/download/v8.3.0/yolo11n.pt to 'yolo11n.pt'...\n"
          ]
        },
        {
          "output_type": "stream",
          "name": "stderr",
          "text": [
            "100%|██████████| 5.35M/5.35M [00:00<00:00, 96.4MB/s]\n"
          ]
        }
      ]
    },
    {
      "cell_type": "markdown",
      "source": [
        "# Commence Model Training"
      ],
      "metadata": {
        "id": "UzBpum7NCP11"
      }
    },
    {
      "cell_type": "code",
      "source": [
        "\n",
        "model_training_result = train_model(model, data_path)"
      ],
      "metadata": {
        "id": "3mz1TDXkCeuL",
        "colab": {
          "base_uri": "https://localhost:8080/"
        },
        "outputId": "73a667fa-2136-41e5-b25e-b59db7b29040"
      },
      "execution_count": null,
      "outputs": [
        {
          "output_type": "stream",
          "name": "stdout",
          "text": [
            "Ultralytics 8.3.131 🚀 Python-3.11.12 torch-2.6.0+cu124 CUDA:0 (Tesla T4, 15095MiB)\n",
            "\u001b[34m\u001b[1mengine/trainer: \u001b[0magnostic_nms=False, amp=True, augment=True, auto_augment=randaugment, batch=16, bgr=0.0, box=7.5, cache=False, cfg=None, classes=None, close_mosaic=10, cls=0.5, conf=None, copy_paste=0.0, copy_paste_mode=flip, cos_lr=True, cutmix=0.0, data=/content/Beverage-Containers-3/data.yaml, degrees=0.0, deterministic=True, device=None, dfl=1.5, dnn=False, dropout=0.0, dynamic=False, embed=None, epochs=5, erasing=0.4, exist_ok=False, fliplr=0.5, flipud=0.0, format=torchscript, fraction=1.0, freeze=None, half=False, hsv_h=0.015, hsv_s=0.7, hsv_v=0.4, imgsz=640, int8=False, iou=0.7, keras=False, kobj=1.0, line_width=None, lr0=0.001, lrf=0.0001, mask_ratio=4, max_det=300, mixup=0.0, mode=train, model=yolo11n.pt, momentum=0.937, mosaic=1.0, multi_scale=False, name=train, nbs=64, nms=False, opset=None, optimize=False, optimizer=AdamW, overlap_mask=True, patience=5, perspective=0.0, plots=True, pose=12.0, pretrained=True, profile=False, project=None, rect=False, resume=False, retina_masks=False, save=True, save_conf=False, save_crop=False, save_dir=runs/detect/train, save_frames=False, save_json=False, save_period=-1, save_txt=False, scale=0.5, seed=0, shear=0.0, show=False, show_boxes=True, show_conf=True, show_labels=True, simplify=True, single_cls=False, source=None, split=val, stream_buffer=False, task=detect, time=None, tracker=botsort.yaml, translate=0.1, val=True, verbose=True, vid_stride=1, visualize=False, warmup_bias_lr=0.1, warmup_epochs=3.0, warmup_momentum=0.8, weight_decay=0.005, workers=8, workspace=None\n",
            "Downloading https://ultralytics.com/assets/Arial.ttf to '/root/.config/Ultralytics/Arial.ttf'...\n"
          ]
        },
        {
          "output_type": "stream",
          "name": "stderr",
          "text": [
            "100%|██████████| 755k/755k [00:00<00:00, 19.5MB/s]"
          ]
        },
        {
          "output_type": "stream",
          "name": "stdout",
          "text": [
            "Overriding model.yaml nc=80 with nc=9\n",
            "\n",
            "                   from  n    params  module                                       arguments                     \n",
            "  0                  -1  1       464  ultralytics.nn.modules.conv.Conv             [3, 16, 3, 2]                 \n",
            "  1                  -1  1      4672  ultralytics.nn.modules.conv.Conv             [16, 32, 3, 2]                \n",
            "  2                  -1  1      6640  ultralytics.nn.modules.block.C3k2            [32, 64, 1, False, 0.25]      \n",
            "  3                  -1  1     36992  ultralytics.nn.modules.conv.Conv             [64, 64, 3, 2]                \n",
            "  4                  -1  1     26080  ultralytics.nn.modules.block.C3k2            [64, 128, 1, False, 0.25]     \n",
            "  5                  -1  1    147712  ultralytics.nn.modules.conv.Conv             [128, 128, 3, 2]              \n",
            "  6                  -1  1     87040  ultralytics.nn.modules.block.C3k2            [128, 128, 1, True]           \n",
            "  7                  -1  1    295424  ultralytics.nn.modules.conv.Conv             [128, 256, 3, 2]              \n",
            "  8                  -1  1    346112  ultralytics.nn.modules.block.C3k2            [256, 256, 1, True]           \n",
            "  9                  -1  1    164608  ultralytics.nn.modules.block.SPPF            [256, 256, 5]                 \n",
            " 10                  -1  1    249728  ultralytics.nn.modules.block.C2PSA           [256, 256, 1]                 \n",
            " 11                  -1  1         0  torch.nn.modules.upsampling.Upsample         [None, 2, 'nearest']          \n"
          ]
        },
        {
          "output_type": "stream",
          "name": "stderr",
          "text": [
            "\n"
          ]
        },
        {
          "output_type": "stream",
          "name": "stdout",
          "text": [
            " 12             [-1, 6]  1         0  ultralytics.nn.modules.conv.Concat           [1]                           \n",
            " 13                  -1  1    111296  ultralytics.nn.modules.block.C3k2            [384, 128, 1, False]          \n",
            " 14                  -1  1         0  torch.nn.modules.upsampling.Upsample         [None, 2, 'nearest']          \n",
            " 15             [-1, 4]  1         0  ultralytics.nn.modules.conv.Concat           [1]                           \n",
            " 16                  -1  1     32096  ultralytics.nn.modules.block.C3k2            [256, 64, 1, False]           \n",
            " 17                  -1  1     36992  ultralytics.nn.modules.conv.Conv             [64, 64, 3, 2]                \n",
            " 18            [-1, 13]  1         0  ultralytics.nn.modules.conv.Concat           [1]                           \n",
            " 19                  -1  1     86720  ultralytics.nn.modules.block.C3k2            [192, 128, 1, False]          \n",
            " 20                  -1  1    147712  ultralytics.nn.modules.conv.Conv             [128, 128, 3, 2]              \n",
            " 21            [-1, 10]  1         0  ultralytics.nn.modules.conv.Concat           [1]                           \n",
            " 22                  -1  1    378880  ultralytics.nn.modules.block.C3k2            [384, 256, 1, True]           \n",
            " 23        [16, 19, 22]  1    432427  ultralytics.nn.modules.head.Detect           [9, [64, 128, 256]]           \n",
            "YOLO11n summary: 181 layers, 2,591,595 parameters, 2,591,579 gradients, 6.4 GFLOPs\n",
            "\n",
            "Transferred 448/499 items from pretrained weights\n",
            "Freezing layer 'model.23.dfl.conv.weight'\n",
            "\u001b[34m\u001b[1mAMP: \u001b[0mrunning Automatic Mixed Precision (AMP) checks...\n",
            "\u001b[34m\u001b[1mAMP: \u001b[0mchecks passed ✅\n",
            "\u001b[34m\u001b[1mtrain: \u001b[0mFast image access ✅ (ping: 0.0±0.0 ms, read: 948.7±202.4 MB/s, size: 40.5 KB)\n"
          ]
        },
        {
          "output_type": "stream",
          "name": "stderr",
          "text": [
            "\u001b[34m\u001b[1mtrain: \u001b[0mScanning /content/Beverage-Containers-3/train/labels... 3783 images, 0 backgrounds, 0 corrupt:  28%|██▊       | 3783/13689 [00:02<00:07, 1385.21it/s]"
          ]
        }
      ]
    },
    {
      "cell_type": "markdown",
      "source": [
        "# Load a pre-trained DETR model for fine-grained classification"
      ],
      "metadata": {
        "id": "mQXe3nNbvDOF"
      }
    },
    {
      "cell_type": "code",
      "source": [
        "device = torch.device(\"cuda\" if torch.cuda.is_available() else \"cpu\")\n",
        "detr_processor = DetrImageProcessor.from_pretrained(\"facebook/detr-resnet-50\")\n",
        "detr_model = DetrForObjectDetection.from_pretrained(\"facebook/detr-resnet-50\").to(device)\n",
        "detr_model.eval()"
      ],
      "metadata": {
        "id": "2EHiQI3RJeEZ"
      },
      "execution_count": null,
      "outputs": []
    },
    {
      "cell_type": "markdown",
      "source": [
        "# Output of Model Training, Testing, and Validation"
      ],
      "metadata": {
        "id": "Y9mbzSoW8yDE"
      }
    },
    {
      "cell_type": "code",
      "source": [
        "from IPython.display import display, Image"
      ],
      "metadata": {
        "id": "NSrIqF9R84pH"
      },
      "execution_count": null,
      "outputs": []
    },
    {
      "cell_type": "markdown",
      "source": [
        "# Labels"
      ],
      "metadata": {
        "id": "Zn3DSEnX_21P"
      }
    },
    {
      "cell_type": "code",
      "source": [
        "Image(filename=f'/content/runs/detect/train/labels.jpg', width=1000)"
      ],
      "metadata": {
        "id": "MVTlaPoP_7YX"
      },
      "execution_count": null,
      "outputs": []
    },
    {
      "cell_type": "markdown",
      "source": [
        "# Label Correlogram"
      ],
      "metadata": {
        "id": "F_5NaiAYADk1"
      }
    },
    {
      "cell_type": "code",
      "source": [
        "Image(filename=f'/content/runs/detect/train/labels_correlogram.jpg', width=1000)"
      ],
      "metadata": {
        "id": "CMSkcS4gAIrX"
      },
      "execution_count": null,
      "outputs": []
    },
    {
      "cell_type": "markdown",
      "source": [
        "# Results"
      ],
      "metadata": {
        "id": "1y5tb9K2-hUa"
      }
    },
    {
      "cell_type": "code",
      "source": [
        "Image(filename=f'/content/runs/detect/train/results.png', width=1000)"
      ],
      "metadata": {
        "id": "p5T5jc-n-jjb"
      },
      "execution_count": null,
      "outputs": []
    },
    {
      "cell_type": "markdown",
      "source": [
        "# Precision-Recall Curve"
      ],
      "metadata": {
        "id": "eDbf54Vv-1J1"
      }
    },
    {
      "cell_type": "code",
      "source": [
        "Image(filename=f'/content/runs/detect/train/PR_curve.png', width=1000)"
      ],
      "metadata": {
        "id": "v7eEJAiq-32V"
      },
      "execution_count": null,
      "outputs": []
    },
    {
      "cell_type": "markdown",
      "source": [
        "# Precision-Confidence Curve"
      ],
      "metadata": {
        "id": "EOYuv3CE_SMQ"
      }
    },
    {
      "cell_type": "code",
      "source": [
        "Image(filename=f'/content/runs/detect/train/P_curve.png', width=1000)"
      ],
      "metadata": {
        "id": "cLPj4StK_W1C"
      },
      "execution_count": null,
      "outputs": []
    },
    {
      "cell_type": "markdown",
      "source": [
        "# Recall-Confidence Curve"
      ],
      "metadata": {
        "id": "7KyzWnMs_iIb"
      }
    },
    {
      "cell_type": "code",
      "source": [
        "Image(filename=f'/content/runs/detect/train/R_curve.png', width=1000)"
      ],
      "metadata": {
        "id": "6Tbj_g8Y_nAB"
      },
      "execution_count": null,
      "outputs": []
    },
    {
      "cell_type": "markdown",
      "source": [
        "# F1 Confidence"
      ],
      "metadata": {
        "id": "wNL7eUrTAdw_"
      }
    },
    {
      "cell_type": "code",
      "source": [
        "Image(filename=f'/content/runs/detect/train/F1_curve.png', width=1000)"
      ],
      "metadata": {
        "id": "PLRI5kS6Akhw"
      },
      "execution_count": null,
      "outputs": []
    },
    {
      "cell_type": "markdown",
      "source": [
        "# Confusion Matrix"
      ],
      "metadata": {
        "id": "Ee-nt0fO9zys"
      }
    },
    {
      "cell_type": "code",
      "source": [
        "Image(filename=f'/content/runs/detect/train/confusion_matrix.png', width=1000)"
      ],
      "metadata": {
        "id": "Di3PACx593fG"
      },
      "execution_count": null,
      "outputs": []
    },
    {
      "cell_type": "markdown",
      "source": [
        "# Normalised Confusion Matrix"
      ],
      "metadata": {
        "id": "BcNVJuWV95F3"
      }
    },
    {
      "cell_type": "code",
      "source": [
        "Image(filename=f'/content/runs/detect/train/confusion_matrix_normalized.png', width=1000)"
      ],
      "metadata": {
        "id": "JMmGVpNr-DAF"
      },
      "execution_count": null,
      "outputs": []
    },
    {
      "cell_type": "code",
      "source": [
        "userdata.get('HF_TOKEN')\n",
        "\n",
        "detr_processor = DetrImageProcessor.from_pretrained(\"facebook/detr-resnet-50\")\n",
        "detr_model = DetrForObjectDetection.from_pretrained(\"facebook/detr-resnet-50\")"
      ],
      "metadata": {
        "id": "Xlpottgtvtrw",
        "collapsed": true
      },
      "execution_count": null,
      "outputs": []
    },
    {
      "cell_type": "markdown",
      "source": [
        "# Monte Carlo Dropout for Uncertainty Estimation"
      ],
      "metadata": {
        "id": "eY7tgNGsv0qo"
      }
    },
    {
      "cell_type": "code",
      "source": [
        "class MonteCarloPredictor(ABC):\n",
        "    \"\"\"Abstract base class defining the Monte Carlo prediction template\"\"\"\n",
        "\n",
        "    def __init__(self, model: Any, n_samples: int = 5):\n",
        "        self.model = model\n",
        "        self.n_samples = n_samples\n",
        "\n",
        "    def predict_with_uncertainty(self, inputs: Dict[str, Any]) -> Tuple[\n",
        "        torch.Tensor, torch.Tensor, torch.Tensor, torch.Tensor\n",
        "    ]:\n",
        "        \"\"\"Template method defining the prediction algorithm\"\"\"\n",
        "        # Step 1: Prepare model\n",
        "        self._prepare_model()\n",
        "\n",
        "        # Step 2: Collect samples\n",
        "        samples = self._collect_samples(inputs)\n",
        "\n",
        "        # Step 3: Restore model state\n",
        "        self._restore_model()\n",
        "\n",
        "        # Step 4: Process samples\n",
        "        return self._process_samples(samples)\n",
        "\n",
        "    @abstractmethod\n",
        "    def _prepare_model(self) -> None:\n",
        "        \"\"\"Prepare the model for sampling\"\"\"\n",
        "        pass\n",
        "\n",
        "    @abstractmethod\n",
        "    def _restore_model(self) -> None:\n",
        "        \"\"\"Restore the model to its default state\"\"\"\n",
        "        pass\n",
        "\n",
        "    @abstractmethod\n",
        "    def _collect_samples(self, inputs: Dict[str, Any]) -> Dict[str, torch.Tensor]:\n",
        "        \"\"\"Collect Monte Carlo samples\"\"\"\n",
        "        pass\n",
        "\n",
        "    @abstractmethod\n",
        "    def _process_samples(self, samples: Dict[str, torch.Tensor]) -> Tuple[\n",
        "        torch.Tensor, torch.Tensor, torch.Tensor, torch.Tensor\n",
        "    ]:\n",
        "        \"\"\"Process collected samples to compute means and uncertainties\"\"\"\n",
        "        pass\n",
        "\n",
        "class DropoutPredictor(MonteCarloPredictor):\n",
        "    \"\"\"Concrete implementation for dropout-based Monte Carlo prediction\"\"\"\n",
        "\n",
        "    def _prepare_model(self) -> None:\n",
        "        self.model.train()  # Enable dropout\n",
        "\n",
        "    def _restore_model(self) -> None:\n",
        "        self.model.eval()  # Disable dropout\n",
        "\n",
        "    def _collect_samples(self, inputs: Dict[str, Any]) -> Dict[str, torch.Tensor]:\n",
        "        all_logits = []\n",
        "        all_boxes = []\n",
        "\n",
        "        for _ in range(self.n_samples):\n",
        "            with torch.no_grad():\n",
        "                outputs = self.model(**inputs)\n",
        "                all_logits.append(outputs.logits)\n",
        "                all_boxes.append(outputs.pred_boxes)\n",
        "\n",
        "        return {\n",
        "            'logits': torch.stack(all_logits),\n",
        "            'boxes': torch.stack(all_boxes)\n",
        "        }\n",
        "\n",
        "    def _process_samples(self, samples: Dict[str, torch.Tensor]) -> Tuple[torch.Tensor, torch.Tensor, torch.Tensor, torch.Tensor]:\n",
        "        def convert_detr_boxes(boxes):\n",
        "            x_center, y_center, w, h = boxes.unbind(-1)\n",
        "            x_min = x_center - w / 2\n",
        "            y_min = y_center - h / 2\n",
        "            x_max = x_center + w / 2\n",
        "            y_max = y_center + h / 2\n",
        "            return torch.stack([x_min, y_min, x_max, y_max], dim=-1)\n",
        "\n",
        "        logit_mean = torch.mean(samples['logits'], dim=0)\n",
        "        logit_std = torch.std(samples['logits'], dim=0)\n",
        "        logit_uncertainty = torch.mean(logit_std, dim=-1)\n",
        "\n",
        "        box_mean = convert_detr_boxes(torch.mean(samples['boxes'], dim=0))\n",
        "        box_std = torch.std(samples['boxes'], dim=0)\n",
        "        box_uncertainty = torch.mean(box_std, dim=-1)\n",
        "\n",
        "        return logit_mean, logit_uncertainty, box_mean, box_uncertainty\n",
        "\n",
        "\n",
        "def get_predictions(model, inputs, n_samples: int = 5) -> tuple:\n",
        "\n",
        "    predictor = DropoutPredictor(model, n_samples=n_samples)\n",
        "    results = predictor.predict_with_uncertainty(inputs)\n",
        "\n",
        "    logit_mean, logit_uncertainty, box_mean, box_uncertainty = results\n",
        "\n",
        "    return logit_mean, logit_uncertainty, box_mean, box_uncertainty"
      ],
      "metadata": {
        "id": "mP26ls0wwU6P"
      },
      "execution_count": null,
      "outputs": []
    },
    {
      "cell_type": "markdown",
      "source": [
        "# Calculate Vectorised Intersection over Union (IoU) of two bounding boxes."
      ],
      "metadata": {
        "id": "WUTgHEiex8XS"
      }
    },
    {
      "cell_type": "code",
      "source": [
        "def calculate_iou_vectorized(bbox1, bbox2):\n",
        "    bbox2 = bbox2.to(bbox1.device)\n",
        "    x1 = torch.maximum(bbox1[:, None, 0], bbox2[None, :, 0])\n",
        "    y1 = torch.maximum(bbox1[:, None, 1], bbox2[None, :, 1])\n",
        "    x2 = torch.minimum(bbox1[:, None, 2], bbox2[None, :, 2])\n",
        "    y2 = torch.minimum(bbox1[:, None, 3], bbox2[None, :, 3])\n",
        "    intersection = torch.clamp(x2 - x1, min=0) * torch.clamp(y2 - y1, min=0)\n",
        "    area1 = (bbox1[:, 2] - bbox1[:, 0]) * (bbox1[:, 3] - bbox1[:, 1])\n",
        "    area2 = (bbox2[:, 2] - bbox2[:, 0]) * (bbox2[:, 3] - bbox2[:, 1])\n",
        "    union = area1[:, None] + area2[None, :] - intersection\n",
        "    iou = intersection / union.clamp(min=1e-6)\n",
        "\n",
        "    print('IOU:', iou)\n",
        "\n",
        "    return iou"
      ],
      "metadata": {
        "id": "cGs3q0FlyADD"
      },
      "execution_count": null,
      "outputs": []
    },
    {
      "cell_type": "markdown",
      "source": [
        "# Visualise output"
      ],
      "metadata": {
        "id": "cnNiDqgG8taj"
      }
    },
    {
      "cell_type": "code",
      "source": [
        "def fix_box_coordinates(box):\n",
        "    x_min, y_min, x_max, y_max = box\n",
        "    if x_min > x_max:\n",
        "        x_min, x_max = x_max, x_min\n",
        "    if y_min > y_max:\n",
        "        y_min, y_max = y_max, y_min\n",
        "    return [x_min, y_min, x_max, y_max]\n",
        "\n",
        "def visualize_boxes(image_path, yolo_boxes, detr_boxes, iou_matrix, max_iou, detr_indices):\n",
        "    if os.path.isfile(image_path):\n",
        "        image = Image.open(image_path).convert('RGB')\n",
        "        draw = ImageDraw.Draw(image)\n",
        "        img_w, img_h = image.size\n",
        "\n",
        "        for i, box in enumerate(yolo_boxes):\n",
        "            box = box.cpu().numpy().tolist()\n",
        "            box = fix_box_coordinates(box)\n",
        "            draw.rectangle(box, outline='red', width=2)\n",
        "\n",
        "            if max_iou[i] > 0.1:\n",
        "                j = detr_indices[i]\n",
        "                detr_box = (detr_boxes[j].cpu().numpy() * [img_w, img_h, img_w, img_h]).tolist()\n",
        "                detr_box = fix_box_coordinates(detr_box)\n",
        "                draw.rectangle(detr_box, outline='blue', width=2)\n",
        "\n",
        "        image.save(\"hybrid_result.png\")\n",
        "        print(\"Saved visualization to hybrid_result.png\")\n",
        "    else:\n",
        "        print(f\"Error: Invalid image path: {image_path}\")"
      ],
      "metadata": {
        "id": "Oh7Pt9yy8x7W"
      },
      "execution_count": null,
      "outputs": []
    },
    {
      "cell_type": "markdown",
      "source": [
        "# Hybrid Detection with Uncertainty, YOLOv11 and DETR outputs"
      ],
      "metadata": {
        "id": "cwWns_ncyfRL"
      }
    },
    {
      "cell_type": "code",
      "source": [
        "def hybrid_detection(image_paths, confidence_threshold=0.5, iou_threshold=0.5, uncertainty_threshold=0.1, n_samples_mc=5):\n",
        "    if isinstance(image_paths, str):\n",
        "        image_paths = [image_paths]\n",
        "    images = [Image.open(p).convert('RGB') for p in image_paths]\n",
        "    resized_images = [img.resize(((img.width // 32) * 32, (img.height // 32) * 32)) for img in images]\n",
        "    image_tensors = torch.stack([transforms.ToTensor()(img) for img in resized_images])\n",
        "\n",
        "    yolo_results = model(image_tensors)\n",
        "    batch_results = []\n",
        "\n",
        "    for idx, (image, yolo_result) in enumerate(zip(images, yolo_results)):\n",
        "        yolo_boxes = yolo_result.boxes.xyxy\n",
        "        yolo_confidences = yolo_result.boxes.conf\n",
        "        yolo_classes = yolo_result.boxes.cls\n",
        "        print(f\"Image {idx}: YOLO Confidences:\", yolo_confidences)\n",
        "\n",
        "        keep = yolo_confidences > confidence_threshold\n",
        "        if not keep.any():\n",
        "            print(f\"Image {idx}: No YOLO detections above threshold {confidence_threshold}\")\n",
        "            batch_results.append(None)\n",
        "            continue\n",
        "        yolo_boxes = yolo_boxes[keep]\n",
        "        yolo_confidences = yolo_confidences[keep]\n",
        "        yolo_classes = yolo_classes[keep]\n",
        "\n",
        "        # Apply NMS to remove duplicates\n",
        "        nms_indices = nms(yolo_boxes, yolo_confidences, iou_threshold=0.5)\n",
        "        yolo_boxes = yolo_boxes[nms_indices]\n",
        "        yolo_confidences = yolo_confidences[nms_indices]\n",
        "        yolo_classes = yolo_classes[nms_indices]\n",
        "        print(f\"Image {idx}: After NMS - Boxes:\", yolo_boxes, \"Confidences:\", yolo_confidences)\n",
        "\n",
        "\n",
        "        img_w, img_h = resized_images[idx].size\n",
        "        yolo_boxes_normalized = yolo_boxes / torch.tensor([img_w, img_h, img_w, img_h], device=yolo_boxes.device)\n",
        "        print(f\"Image {idx}: Normalized YOLO Boxes:\", yolo_boxes_normalized)\n",
        "\n",
        "        inputs = detr_processor(images=image, return_tensors=\"pt\")\n",
        "        logit_mean, logit_uncertainty, box_mean, box_uncertainty = get_predictions(detr_model, inputs, n_samples_mc)\n",
        "        print(f\"Image {idx}: DETR Boxes:\", box_mean[0])\n",
        "\n",
        "        detr_conf = torch.softmax(logit_mean[0, :, :-1], dim=-1).max(dim=-1)[0]\n",
        "        detr_keep = detr_conf > 0.2\n",
        "        if detr_keep.sum() == 0:\n",
        "            print(f\"Image {idx}: No DETR detections above confidence 0.2\")\n",
        "            refined_results = [{\n",
        "                \"yolo_box\": yolo_boxes[i].tolist(),\n",
        "                \"yolo_confidence\": yolo_confidences[i].item(),\n",
        "                \"yolo_class\": yolo_classes[i].item(),\n",
        "                \"detr_box\": None,\n",
        "                \"detr_confidence\": None,\n",
        "                \"combined_confidence\": yolo_confidences[i].item(),\n",
        "                \"logit_uncertainty\": None,\n",
        "                \"box_uncertainty\": None\n",
        "            } for i in range(len(yolo_boxes))]\n",
        "            batch_results.append(refined_results)\n",
        "            continue\n",
        "\n",
        "        box_mean_filtered = box_mean[0][detr_keep]\n",
        "        box_mean_filtered_fixed = torch.tensor([fix_box_coordinates(box.cpu().numpy()) for box in box_mean_filtered], device=box_mean_filtered.device)\n",
        "        logit_uncertainty_filtered = logit_uncertainty[0][detr_keep]\n",
        "        box_uncertainty_filtered = box_uncertainty[0][detr_keep]\n",
        "        detr_conf_filtered = detr_conf[detr_keep]\n",
        "\n",
        "        iou_matrix = calculate_iou_vectorized(yolo_boxes_normalized, box_mean_filtered_fixed)\n",
        "        max_iou, detr_indices = iou_matrix.max(dim=1)\n",
        "        valid_matches = max_iou > iou_threshold\n",
        "        print(f\"Image {idx}: Max IoU:\", max_iou)\n",
        "\n",
        "        visualize_boxes(image_paths[idx], yolo_boxes, box_mean[0], iou_matrix, max_iou, detr_indices)\n",
        "\n",
        "        refined_results = []\n",
        "        # Iterate over all YOLO detections, not just valid matches\n",
        "        for i in range(len(yolo_boxes)):\n",
        "            if i < len(valid_matches) and valid_matches[i]:\n",
        "                j = detr_indices[i]\n",
        "                detr_box = box_mean_filtered_fixed[j].cpu().numpy()\n",
        "                l_uncert = logit_uncertainty_filtered[j].item()\n",
        "                b_uncert = box_uncertainty_filtered[j].item()\n",
        "                detr_conf = detr_conf_filtered[j].item()\n",
        "                print(f\"Image {idx}: DETR Match {i} - Confidence: {detr_conf}, Uncertainty - Logit: {l_uncert}, Box: {b_uncert}\")\n",
        "\n",
        "                w_yolo = 1 / (b_uncert + 1e-6)\n",
        "                w_detr = 1 / (l_uncert + 1e-6)\n",
        "                combined_conf = (yolo_confidences[i].item() * w_yolo + detr_conf * w_detr) / (w_yolo + w_detr)\n",
        "\n",
        "                if l_uncert < uncertainty_threshold and b_uncert < uncertainty_threshold:\n",
        "                    refined_results.append({\n",
        "                        \"yolo_box\": yolo_boxes[i].tolist(),\n",
        "                        \"yolo_confidence\": yolo_confidences[i].item(),\n",
        "                        \"yolo_class\": yolo_classes[i].item(),\n",
        "                        \"detr_box\": detr_box.tolist(),\n",
        "                        \"detr_confidence\": detr_conf,\n",
        "                        \"combined_confidence\": combined_conf,\n",
        "                        \"logit_uncertainty\": l_uncert,\n",
        "                        \"box_uncertainty\": b_uncert\n",
        "                    })\n",
        "                else:\n",
        "                    print(f\"Image {idx}: DETR Match {i} excluded due to high uncertainty (Logit: {l_uncert}, Box: {b_uncert})\")\n",
        "                    refined_results.append({\n",
        "                        \"yolo_box\": yolo_boxes[i].tolist(),\n",
        "                        \"yolo_confidence\": yolo_confidences[i].item(),\n",
        "                        \"yolo_class\": yolo_classes[i].item(),\n",
        "                        \"detr_box\": None,\n",
        "                        \"detr_confidence\": None,\n",
        "                        \"combined_confidence\": yolo_confidences[i].item(),\n",
        "                        \"logit_uncertainty\": None,\n",
        "                        \"box_uncertainty\": None\n",
        "                    })\n",
        "            else:\n",
        "                refined_results.append({\n",
        "                    \"yolo_box\": yolo_boxes[i].tolist(),\n",
        "                    \"yolo_confidence\": yolo_confidences[i].item(),\n",
        "                    \"yolo_class\": yolo_classes[i].item(),\n",
        "                    \"detr_box\": None,\n",
        "                    \"detr_confidence\": None,\n",
        "                    \"combined_confidence\": yolo_confidences[i].item(),\n",
        "                    \"logit_uncertainty\": None,\n",
        "                    \"box_uncertainty\": None\n",
        "                })\n",
        "\n",
        "        batch_results.append(refined_results if refined_results else None)\n",
        "\n",
        "    return batch_results if len(batch_results) > 1 else batch_results[0]"
      ],
      "metadata": {
        "id": "nMkBj6PTyhia"
      },
      "execution_count": null,
      "outputs": []
    },
    {
      "cell_type": "markdown",
      "source": [
        "# Test Hybrid approach"
      ],
      "metadata": {
        "id": "VX7GqrFgzyE2"
      }
    },
    {
      "cell_type": "code",
      "source": [
        "def test_hybrid_approach(image_paths, confidence_threshold=0.10, iou_threshold=0.1, uncertainty_threshold=0.7, n_samples_mc=20):\n",
        "    results = hybrid_detection(image_paths, confidence_threshold, iou_threshold, uncertainty_threshold, n_samples_mc)\n",
        "\n",
        "    if isinstance(image_paths, str):  # Single image\n",
        "        if results is None:\n",
        "            print(\"No high-confidence detections.\")\n",
        "            return\n",
        "        print(\"Hybrid Detection Results:\")\n",
        "        for res in results:\n",
        "            print(res)\n",
        "    else:  # Batch of images\n",
        "        for i, res in enumerate(results):\n",
        "            print(f\"Image {i + 1} Results:\")\n",
        "            if res is None:\n",
        "                print(\"No high-confidence detections.\")\n",
        "            else:\n",
        "                for r in res:\n",
        "                    print(r)"
      ],
      "metadata": {
        "id": "0xuomJHC0Ebu"
      },
      "execution_count": null,
      "outputs": []
    },
    {
      "cell_type": "markdown",
      "source": [
        "# Testing Model"
      ],
      "metadata": {
        "id": "h-q7WTuK0Yvt"
      }
    },
    {
      "cell_type": "code",
      "source": [
        "# Example Usage\n",
        "image_path = \"/content/IMG_3740.JPG\"\n",
        "test_hybrid_approach(image_path)\n",
        "\n",
        "# # Batch Example\n",
        "# image_paths = [\"/content/path/to/image1.jpg\", \"/content/path/to/image2.jpg\"]\n",
        "# test_hybrid_approach(image_paths)"
      ],
      "metadata": {
        "id": "IPmMEIFi0qto"
      },
      "execution_count": null,
      "outputs": []
    }
  ]
}